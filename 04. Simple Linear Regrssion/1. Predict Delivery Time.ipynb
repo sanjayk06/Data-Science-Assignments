{
 "cells": [
  {
   "cell_type": "markdown",
   "metadata": {},
   "source": [
    "# Importing the libraries"
   ]
  },
  {
   "cell_type": "code",
   "execution_count": 1,
   "metadata": {},
   "outputs": [],
   "source": [
    "import sklearn # for machine learning model\n",
    "import numpy as np # for working with arrays in python\n",
    "import pandas as pd # for reading the files\n",
    "import matplotlib.pyplot as plt # for plotting the graphs\n",
    "from sklearn.linear_model import LinearRegression # importing linear regression model from sklearn\n",
    "from sklearn.metrics import r2_score # for calculating r2 value to predict the accuracy of the model\n",
    "import statsmodels.formula.api as smf # A convenient interface for specifying models using formula strings and dataframes\n",
    "# r2 near to 1 => good model\n",
    "# r2 near to 0 => bad model"
   ]
  },
  {
   "cell_type": "code",
   "execution_count": 2,
   "metadata": {},
   "outputs": [
    {
     "name": "stdout",
     "output_type": "stream",
     "text": [
      "(21, 2)\n",
      "==============================\n",
      "   DeliveryTime  SortingTime\n",
      "0         21.00           10\n",
      "1         13.50            4\n",
      "2         19.75            6\n",
      "3         24.00            9\n",
      "4         29.00           10\n",
      "5         15.35            6\n",
      "6         19.00            7\n",
      "7          9.50            3\n",
      "8         17.90           10\n",
      "9         18.75            9\n"
     ]
    },
    {
     "data": {
      "image/png": "[encoded data removed]",
      "text/plain": [
       "<Figure size 720x504 with 1 Axes>"
      ]
     },
     "metadata": {},
     "output_type": "display_data"
    }
   ],
   "source": [
    "dataset = pd.read_csv('delivery_time.csv')# reading the csv file from source\n",
    "print(dataset.shape) # size of the data\n",
    "print(\"=\"*30)\n",
    "\n",
    "print(dataset.head(10)) # top 10 records of the dataset\n",
    "\n",
    "plt.figure(figsize=(10,7), facecolor=\"lightgreen\") # creating new figure with figuresize 10,7 and of green color\n",
    "plt.scatter(dataset.DeliveryTime, dataset.SortingTime) # plotting the scatter plot with x-axis as Delivery time and y-axis as Sorting time\n",
    "plt.xlabel('Delivery Time') # label of x-axis\n",
    "plt.ylabel('Sorting Time') # label of y-axis\n",
    "plt.show() # to print the graph"
   ]
  },
  {
   "cell_type": "code",
   "execution_count": 3,
   "metadata": {},
   "outputs": [
    {
     "data": {
      "text/html": [
       "<div>\n",
       "<style scoped>\n",
       "    .dataframe tbody tr th:only-of-type {\n",
       "        vertical-align: middle;\n",
       "    }\n",
       "\n",
       "    .dataframe tbody tr th {\n",
       "        vertical-align: top;\n",
       "    }\n",
       "\n",
       "    .dataframe thead th {\n",
       "        text-align: right;\n",
       "    }\n",
       "</style>\n",
       "<table border=\"1\" class=\"dataframe\">\n",
       "  <thead>\n",
       "    <tr style=\"text-align: right;\">\n",
       "      <th></th>\n",
       "      <th>DeliveryTime</th>\n",
       "      <th>SortingTime</th>\n",
       "    </tr>\n",
       "  </thead>\n",
       "  <tbody>\n",
       "    <tr>\n",
       "      <th>DeliveryTime</th>\n",
       "      <td>1.000000</td>\n",
       "      <td>0.825997</td>\n",
       "    </tr>\n",
       "    <tr>\n",
       "      <th>SortingTime</th>\n",
       "      <td>0.825997</td>\n",
       "      <td>1.000000</td>\n",
       "    </tr>\n",
       "  </tbody>\n",
       "</table>\n",
       "</div>"
      ],
      "text/plain": [
       "              DeliveryTime  SortingTime\n",
       "DeliveryTime      1.000000     0.825997\n",
       "SortingTime       0.825997     1.000000"
      ]
     },
     "execution_count": 3,
     "metadata": {},
     "output_type": "execute_result"
    }
   ],
   "source": [
    "dataset.corr() # near to 1 positive correlation, near to 0 negative correlation"
   ]
  },
  {
   "cell_type": "markdown",
   "metadata": {},
   "source": [
    "# Creating Model with SKLEARN"
   ]
  },
  {
   "cell_type": "code",
   "execution_count": 13,
   "metadata": {},
   "outputs": [
    {
     "data": {
      "text/plain": [
       "(21, 1)"
      ]
     },
     "execution_count": 13,
     "metadata": {},
     "output_type": "execute_result"
    }
   ],
   "source": [
    "dataset['DeliveryTime'].values.reshape(-1,1).shape # reshaping the data with one feature"
   ]
  },
  {
   "cell_type": "code",
   "execution_count": 4,
   "metadata": {},
   "outputs": [],
   "source": [
    "lm = LinearRegression() # giving alias to the linear regression model\n",
    "X = dataset['DeliveryTime'].values.reshape(-1,1) # the library can't take the data as it is and for that we have to change it to numpy array\n",
    "Y = dataset['SortingTime'].values.reshape(-1,1)# -1 internally decides the number of rows according to the number columns\n",
    "\n",
    "reg_sklearn = lm.fit(X,Y) # create the best possible line in the form of y=ax+b"
   ]
  },
  {
   "cell_type": "code",
   "execution_count": 6,
   "metadata": {},
   "outputs": [
    {
     "name": "stdout",
     "output_type": "stream",
     "text": [
      "[[21.  ]\n",
      " [13.5 ]\n",
      " [19.75]\n",
      " [24.  ]\n",
      " [29.  ]\n",
      " [15.35]\n",
      " [19.  ]\n",
      " [ 9.5 ]\n",
      " [17.9 ]\n",
      " [18.75]\n",
      " [19.83]\n",
      " [10.75]\n",
      " [16.68]\n",
      " [11.5 ]\n",
      " [12.03]\n",
      " [14.88]\n",
      " [13.75]\n",
      " [18.11]\n",
      " [ 8.  ]\n",
      " [17.83]\n",
      " [21.5 ]]\n"
     ]
    }
   ],
   "source": [
    "print(X)"
   ]
  },
  {
   "cell_type": "code",
   "execution_count": 7,
   "metadata": {},
   "outputs": [
    {
     "name": "stdout",
     "output_type": "stream",
     "text": [
      "[[10]\n",
      " [ 4]\n",
      " [ 6]\n",
      " [ 9]\n",
      " [10]\n",
      " [ 6]\n",
      " [ 7]\n",
      " [ 3]\n",
      " [10]\n",
      " [ 9]\n",
      " [ 8]\n",
      " [ 4]\n",
      " [ 7]\n",
      " [ 3]\n",
      " [ 3]\n",
      " [ 4]\n",
      " [ 6]\n",
      " [ 7]\n",
      " [ 2]\n",
      " [ 7]\n",
      " [ 5]]\n"
     ]
    }
   ],
   "source": [
    "print(Y)"
   ]
  },
  {
   "cell_type": "code",
   "execution_count": 8,
   "metadata": {},
   "outputs": [
    {
     "name": "stdout",
     "output_type": "stream",
     "text": [
      "[[0.41374363]]\n",
      "[-0.75667337]\n"
     ]
    }
   ],
   "source": [
    "print(reg_sklearn.coef_) # alpha of y=ax+b\n",
    "print(reg_sklearn.intercept_) # beta of y=ax_b"
   ]
  },
  {
   "cell_type": "code",
   "execution_count": 9,
   "metadata": {},
   "outputs": [
    {
     "data": {
      "text/plain": [
       "array([[ 7.93194282],\n",
       "       [ 4.82886561],\n",
       "       [ 7.41476329],\n",
       "       [ 9.17317371],\n",
       "       [11.24189185],\n",
       "       [ 5.59429132],\n",
       "       [ 7.10445557],\n",
       "       [ 3.1738911 ],\n",
       "       [ 6.64933758],\n",
       "       [ 7.00101966],\n",
       "       [ 7.44786278],\n",
       "       [ 3.69107064],\n",
       "       [ 6.14457035],\n",
       "       [ 4.00137836],\n",
       "       [ 4.22066248],\n",
       "       [ 5.39983182],\n",
       "       [ 4.93230152],\n",
       "       [ 6.73622374],\n",
       "       [ 2.55327566],\n",
       "       [ 6.62037552],\n",
       "       [ 8.13881464]])"
      ]
     },
     "execution_count": 9,
     "metadata": {},
     "output_type": "execute_result"
    }
   ],
   "source": [
    "reg_sklearn.predict(X) # predicting y' using X in the table"
   ]
  },
  {
   "cell_type": "code",
   "execution_count": 10,
   "metadata": {},
   "outputs": [
    {
     "data": {
      "image/png": "[encoded data removed]",
      "text/plain": [
       "<Figure size 720x504 with 1 Axes>"
      ]
     },
     "metadata": {},
     "output_type": "display_data"
    }
   ],
   "source": [
    "plt.figure(figsize=(10,7),facecolor=\"lightgreen\")\n",
    "plt.scatter(dataset.DeliveryTime,(dataset.SortingTime),color=\"black\",label=\"actual\");\n",
    "plt.plot(dataset.DeliveryTime,reg_sklearn.predict(X),label=\"predicted\",color=\"green\",linestyle=\"-.\");\n",
    "plt.scatter(dataset.DeliveryTime,reg_sklearn.predict(X),color=\"red\")\n",
    "plt.xlabel(\"Delivery Time\");\n",
    "plt.ylabel(\"Sorting Time\")\n",
    "# print (wcat.AT)\n",
    "plt.legend(loc=\"best\")\n",
    "plt.show()"
   ]
  },
  {
   "cell_type": "markdown",
   "metadata": {},
   "source": [
    "# Model Validation"
   ]
  },
  {
   "cell_type": "code",
   "execution_count": 11,
   "metadata": {},
   "outputs": [
    {
     "data": {
      "text/plain": [
       "0.682271474841723"
      ]
     },
     "execution_count": 11,
     "metadata": {},
     "output_type": "execute_result"
    }
   ],
   "source": [
    "pred_train_lm =reg_sklearn.predict(X)\n",
    "r2_score(dataset[\"SortingTime\"],pred_train_lm) "
   ]
  },
  {
   "cell_type": "markdown",
   "metadata": {},
   "source": [
    "# Model with statsmodels"
   ]
  },
  {
   "cell_type": "code",
   "execution_count": 12,
   "metadata": {},
   "outputs": [],
   "source": [
    "first_model = smf.ols(\"SortingTime~DeliveryTime\",data=dataset).fit()"
   ]
  },
  {
   "cell_type": "code",
   "execution_count": 13,
   "metadata": {},
   "outputs": [
    {
     "data": {
      "text/plain": [
       "Intercept      -0.756673\n",
       "DeliveryTime    0.413744\n",
       "dtype: float64"
      ]
     },
     "execution_count": 13,
     "metadata": {},
     "output_type": "execute_result"
    }
   ],
   "source": [
    "first_model.params"
   ]
  },
  {
   "cell_type": "code",
   "execution_count": 14,
   "metadata": {},
   "outputs": [
    {
     "data": {
      "text/html": [
       "<table class=\"simpletable\">\n",
       "<caption>OLS Regression Results</caption>\n",
       "<tr>\n",
       "  <th>Dep. Variable:</th>       <td>SortingTime</td>   <th>  R-squared:         </th> <td>   0.682</td>\n",
       "</tr>\n",
       "<tr>\n",
       "  <th>Model:</th>                   <td>OLS</td>       <th>  Adj. R-squared:    </th> <td>   0.666</td>\n",
       "</tr>\n",
       "<tr>\n",
       "  <th>Method:</th>             <td>Least Squares</td>  <th>  F-statistic:       </th> <td>   40.80</td>\n",
       "</tr>\n",
       "<tr>\n",
       "  <th>Date:</th>             <td>Thu, 14 Jul 2022</td> <th>  Prob (F-statistic):</th> <td>3.98e-06</td>\n",
       "</tr>\n",
       "<tr>\n",
       "  <th>Time:</th>                 <td>23:31:33</td>     <th>  Log-Likelihood:    </th> <td> -36.839</td>\n",
       "</tr>\n",
       "<tr>\n",
       "  <th>No. Observations:</th>      <td>    21</td>      <th>  AIC:               </th> <td>   77.68</td>\n",
       "</tr>\n",
       "<tr>\n",
       "  <th>Df Residuals:</th>          <td>    19</td>      <th>  BIC:               </th> <td>   79.77</td>\n",
       "</tr>\n",
       "<tr>\n",
       "  <th>Df Model:</th>              <td>     1</td>      <th>                     </th>     <td> </td>   \n",
       "</tr>\n",
       "<tr>\n",
       "  <th>Covariance Type:</th>      <td>nonrobust</td>    <th>                     </th>     <td> </td>   \n",
       "</tr>\n",
       "</table>\n",
       "<table class=\"simpletable\">\n",
       "<tr>\n",
       "        <td></td>          <th>coef</th>     <th>std err</th>      <th>t</th>      <th>P>|t|</th>  <th>[0.025</th>    <th>0.975]</th>  \n",
       "</tr>\n",
       "<tr>\n",
       "  <th>Intercept</th>    <td>   -0.7567</td> <td>    1.134</td> <td>   -0.667</td> <td> 0.513</td> <td>   -3.130</td> <td>    1.617</td>\n",
       "</tr>\n",
       "<tr>\n",
       "  <th>DeliveryTime</th> <td>    0.4137</td> <td>    0.065</td> <td>    6.387</td> <td> 0.000</td> <td>    0.278</td> <td>    0.549</td>\n",
       "</tr>\n",
       "</table>\n",
       "<table class=\"simpletable\">\n",
       "<tr>\n",
       "  <th>Omnibus:</th>       <td> 1.409</td> <th>  Durbin-Watson:     </th> <td>   1.346</td>\n",
       "</tr>\n",
       "<tr>\n",
       "  <th>Prob(Omnibus):</th> <td> 0.494</td> <th>  Jarque-Bera (JB):  </th> <td>   0.371</td>\n",
       "</tr>\n",
       "<tr>\n",
       "  <th>Skew:</th>          <td> 0.255</td> <th>  Prob(JB):          </th> <td>   0.831</td>\n",
       "</tr>\n",
       "<tr>\n",
       "  <th>Kurtosis:</th>      <td> 3.405</td> <th>  Cond. No.          </th> <td>    62.1</td>\n",
       "</tr>\n",
       "</table><br/><br/>Notes:<br/>[1] Standard Errors assume that the covariance matrix of the errors is correctly specified."
      ],
      "text/plain": [
       "<class 'statsmodels.iolib.summary.Summary'>\n",
       "\"\"\"\n",
       "                            OLS Regression Results                            \n",
       "==============================================================================\n",
       "Dep. Variable:            SortingTime   R-squared:                       0.682\n",
       "Model:                            OLS   Adj. R-squared:                  0.666\n",
       "Method:                 Least Squares   F-statistic:                     40.80\n",
       "Date:                Thu, 14 Jul 2022   Prob (F-statistic):           3.98e-06\n",
       "Time:                        23:31:33   Log-Likelihood:                -36.839\n",
       "No. Observations:                  21   AIC:                             77.68\n",
       "Df Residuals:                      19   BIC:                             79.77\n",
       "Df Model:                           1                                         \n",
       "Covariance Type:            nonrobust                                         \n",
       "================================================================================\n",
       "                   coef    std err          t      P>|t|      [0.025      0.975]\n",
       "--------------------------------------------------------------------------------\n",
       "Intercept       -0.7567      1.134     -0.667      0.513      -3.130       1.617\n",
       "DeliveryTime     0.4137      0.065      6.387      0.000       0.278       0.549\n",
       "==============================================================================\n",
       "Omnibus:                        1.409   Durbin-Watson:                   1.346\n",
       "Prob(Omnibus):                  0.494   Jarque-Bera (JB):                0.371\n",
       "Skew:                           0.255   Prob(JB):                        0.831\n",
       "Kurtosis:                       3.405   Cond. No.                         62.1\n",
       "==============================================================================\n",
       "\n",
       "Notes:\n",
       "[1] Standard Errors assume that the covariance matrix of the errors is correctly specified.\n",
       "\"\"\""
      ]
     },
     "execution_count": 14,
     "metadata": {},
     "output_type": "execute_result"
    }
   ],
   "source": [
    "first_model.summary()"
   ]
  },
  {
   "cell_type": "code",
   "execution_count": 15,
   "metadata": {},
   "outputs": [
    {
     "data": {
      "image/png": "[encoded data removed]",
      "text/plain": [
       "<Figure size 720x504 with 1 Axes>"
      ]
     },
     "metadata": {},
     "output_type": "display_data"
    }
   ],
   "source": [
    "plt.figure(figsize=(10,7),facecolor=\"lightgreen\")\n",
    "plt.scatter(dataset.DeliveryTime,(dataset.SortingTime),color=\"black\",label=\"actual\");\n",
    "plt.plot(dataset.DeliveryTime,first_model.predict(dataset['DeliveryTime']),label=\"predicted\",color=\"red\",linestyle=\"-.\");\n",
    "plt.scatter(dataset.DeliveryTime,first_model.predict(dataset['DeliveryTime']),color=\"red\")\n",
    "plt.xlabel(\"Delivery Time\");\n",
    "plt.ylabel(\"Sorting Time\")\n",
    "# print (wcat.AT)\n",
    "plt.legend(loc=\"best\")\n",
    "plt.show()"
   ]
  },
  {
   "cell_type": "code",
   "execution_count": 16,
   "metadata": {},
   "outputs": [
    {
     "data": {
      "text/html": [
       "<table class=\"simpletable\">\n",
       "<caption>OLS Regression Results</caption>\n",
       "<tr>\n",
       "  <th>Dep. Variable:</th>       <td>SortingTime</td>   <th>  R-squared:         </th> <td>   0.711</td>\n",
       "</tr>\n",
       "<tr>\n",
       "  <th>Model:</th>                   <td>OLS</td>       <th>  Adj. R-squared:    </th> <td>   0.696</td>\n",
       "</tr>\n",
       "<tr>\n",
       "  <th>Method:</th>             <td>Least Squares</td>  <th>  F-statistic:       </th> <td>   46.73</td>\n",
       "</tr>\n",
       "<tr>\n",
       "  <th>Date:</th>             <td>Thu, 14 Jul 2022</td> <th>  Prob (F-statistic):</th> <td>1.59e-06</td>\n",
       "</tr>\n",
       "<tr>\n",
       "  <th>Time:</th>                 <td>23:31:44</td>     <th>  Log-Likelihood:    </th> <td> -35.846</td>\n",
       "</tr>\n",
       "<tr>\n",
       "  <th>No. Observations:</th>      <td>    21</td>      <th>  AIC:               </th> <td>   75.69</td>\n",
       "</tr>\n",
       "<tr>\n",
       "  <th>Df Residuals:</th>          <td>    19</td>      <th>  BIC:               </th> <td>   77.78</td>\n",
       "</tr>\n",
       "<tr>\n",
       "  <th>Df Model:</th>              <td>     1</td>      <th>                     </th>     <td> </td>   \n",
       "</tr>\n",
       "<tr>\n",
       "  <th>Covariance Type:</th>      <td>nonrobust</td>    <th>                     </th>     <td> </td>   \n",
       "</tr>\n",
       "</table>\n",
       "<table class=\"simpletable\">\n",
       "<tr>\n",
       "            <td></td>              <th>coef</th>     <th>std err</th>      <th>t</th>      <th>P>|t|</th>  <th>[0.025</th>    <th>0.975]</th>  \n",
       "</tr>\n",
       "<tr>\n",
       "  <th>Intercept</th>            <td>  -12.4992</td> <td>    2.751</td> <td>   -4.543</td> <td> 0.000</td> <td>  -18.257</td> <td>   -6.741</td>\n",
       "</tr>\n",
       "<tr>\n",
       "  <th>np.log(DeliveryTime)</th> <td>    6.7355</td> <td>    0.985</td> <td>    6.836</td> <td> 0.000</td> <td>    4.673</td> <td>    8.798</td>\n",
       "</tr>\n",
       "</table>\n",
       "<table class=\"simpletable\">\n",
       "<tr>\n",
       "  <th>Omnibus:</th>       <td> 1.323</td> <th>  Durbin-Watson:     </th> <td>   1.202</td>\n",
       "</tr>\n",
       "<tr>\n",
       "  <th>Prob(Omnibus):</th> <td> 0.516</td> <th>  Jarque-Bera (JB):  </th> <td>   0.242</td>\n",
       "</tr>\n",
       "<tr>\n",
       "  <th>Skew:</th>          <td>-0.025</td> <th>  Prob(JB):          </th> <td>   0.886</td>\n",
       "</tr>\n",
       "<tr>\n",
       "  <th>Kurtosis:</th>      <td> 3.523</td> <th>  Cond. No.          </th> <td>    28.3</td>\n",
       "</tr>\n",
       "</table><br/><br/>Notes:<br/>[1] Standard Errors assume that the covariance matrix of the errors is correctly specified."
      ],
      "text/plain": [
       "<class 'statsmodels.iolib.summary.Summary'>\n",
       "\"\"\"\n",
       "                            OLS Regression Results                            \n",
       "==============================================================================\n",
       "Dep. Variable:            SortingTime   R-squared:                       0.711\n",
       "Model:                            OLS   Adj. R-squared:                  0.696\n",
       "Method:                 Least Squares   F-statistic:                     46.73\n",
       "Date:                Thu, 14 Jul 2022   Prob (F-statistic):           1.59e-06\n",
       "Time:                        23:31:44   Log-Likelihood:                -35.846\n",
       "No. Observations:                  21   AIC:                             75.69\n",
       "Df Residuals:                      19   BIC:                             77.78\n",
       "Df Model:                           1                                         \n",
       "Covariance Type:            nonrobust                                         \n",
       "========================================================================================\n",
       "                           coef    std err          t      P>|t|      [0.025      0.975]\n",
       "----------------------------------------------------------------------------------------\n",
       "Intercept              -12.4992      2.751     -4.543      0.000     -18.257      -6.741\n",
       "np.log(DeliveryTime)     6.7355      0.985      6.836      0.000       4.673       8.798\n",
       "==============================================================================\n",
       "Omnibus:                        1.323   Durbin-Watson:                   1.202\n",
       "Prob(Omnibus):                  0.516   Jarque-Bera (JB):                0.242\n",
       "Skew:                          -0.025   Prob(JB):                        0.886\n",
       "Kurtosis:                       3.523   Cond. No.                         28.3\n",
       "==============================================================================\n",
       "\n",
       "Notes:\n",
       "[1] Standard Errors assume that the covariance matrix of the errors is correctly specified.\n",
       "\"\"\""
      ]
     },
     "execution_count": 16,
     "metadata": {},
     "output_type": "execute_result"
    }
   ],
   "source": [
    "model2 = smf.ols('SortingTime~np.log(DeliveryTime)',data=dataset).fit() #y' = alogx+b\n",
    "model2.summary()"
   ]
  },
  {
   "cell_type": "code",
   "execution_count": 19,
   "metadata": {},
   "outputs": [
    {
     "data": {
      "text/html": [
       "<table class=\"simpletable\">\n",
       "<caption>OLS Regression Results</caption>\n",
       "<tr>\n",
       "  <th>Dep. Variable:</th>    <td>np.log(SortingTime)</td> <th>  R-squared:         </th> <td>   0.695</td>\n",
       "</tr>\n",
       "<tr>\n",
       "  <th>Model:</th>                    <td>OLS</td>         <th>  Adj. R-squared:    </th> <td>   0.679</td>\n",
       "</tr>\n",
       "<tr>\n",
       "  <th>Method:</th>              <td>Least Squares</td>    <th>  F-statistic:       </th> <td>   43.39</td>\n",
       "</tr>\n",
       "<tr>\n",
       "  <th>Date:</th>              <td>Thu, 14 Jul 2022</td>   <th>  Prob (F-statistic):</th> <td>2.64e-06</td>\n",
       "</tr>\n",
       "<tr>\n",
       "  <th>Time:</th>                  <td>23:32:22</td>       <th>  Log-Likelihood:    </th> <td>-0.85600</td>\n",
       "</tr>\n",
       "<tr>\n",
       "  <th>No. Observations:</th>       <td>    21</td>        <th>  AIC:               </th> <td>   5.712</td>\n",
       "</tr>\n",
       "<tr>\n",
       "  <th>Df Residuals:</th>           <td>    19</td>        <th>  BIC:               </th> <td>   7.801</td>\n",
       "</tr>\n",
       "<tr>\n",
       "  <th>Df Model:</th>               <td>     1</td>        <th>                     </th>     <td> </td>   \n",
       "</tr>\n",
       "<tr>\n",
       "  <th>Covariance Type:</th>       <td>nonrobust</td>      <th>                     </th>     <td> </td>   \n",
       "</tr>\n",
       "</table>\n",
       "<table class=\"simpletable\">\n",
       "<tr>\n",
       "        <td></td>          <th>coef</th>     <th>std err</th>      <th>t</th>      <th>P>|t|</th>  <th>[0.025</th>    <th>0.975]</th>  \n",
       "</tr>\n",
       "<tr>\n",
       "  <th>Intercept</th>    <td>    0.4372</td> <td>    0.204</td> <td>    2.139</td> <td> 0.046</td> <td>    0.009</td> <td>    0.865</td>\n",
       "</tr>\n",
       "<tr>\n",
       "  <th>DeliveryTime</th> <td>    0.0769</td> <td>    0.012</td> <td>    6.587</td> <td> 0.000</td> <td>    0.052</td> <td>    0.101</td>\n",
       "</tr>\n",
       "</table>\n",
       "<table class=\"simpletable\">\n",
       "<tr>\n",
       "  <th>Omnibus:</th>       <td> 0.744</td> <th>  Durbin-Watson:     </th> <td>   1.691</td>\n",
       "</tr>\n",
       "<tr>\n",
       "  <th>Prob(Omnibus):</th> <td> 0.689</td> <th>  Jarque-Bera (JB):  </th> <td>   0.686</td>\n",
       "</tr>\n",
       "<tr>\n",
       "  <th>Skew:</th>          <td>-0.101</td> <th>  Prob(JB):          </th> <td>   0.710</td>\n",
       "</tr>\n",
       "<tr>\n",
       "  <th>Kurtosis:</th>      <td> 2.138</td> <th>  Cond. No.          </th> <td>    62.1</td>\n",
       "</tr>\n",
       "</table><br/><br/>Notes:<br/>[1] Standard Errors assume that the covariance matrix of the errors is correctly specified."
      ],
      "text/plain": [
       "<class 'statsmodels.iolib.summary.Summary'>\n",
       "\"\"\"\n",
       "                             OLS Regression Results                            \n",
       "===============================================================================\n",
       "Dep. Variable:     np.log(SortingTime)   R-squared:                       0.695\n",
       "Model:                             OLS   Adj. R-squared:                  0.679\n",
       "Method:                  Least Squares   F-statistic:                     43.39\n",
       "Date:                 Thu, 14 Jul 2022   Prob (F-statistic):           2.64e-06\n",
       "Time:                         23:32:22   Log-Likelihood:               -0.85600\n",
       "No. Observations:                   21   AIC:                             5.712\n",
       "Df Residuals:                       19   BIC:                             7.801\n",
       "Df Model:                            1                                         \n",
       "Covariance Type:             nonrobust                                         \n",
       "================================================================================\n",
       "                   coef    std err          t      P>|t|      [0.025      0.975]\n",
       "--------------------------------------------------------------------------------\n",
       "Intercept        0.4372      0.204      2.139      0.046       0.009       0.865\n",
       "DeliveryTime     0.0769      0.012      6.587      0.000       0.052       0.101\n",
       "==============================================================================\n",
       "Omnibus:                        0.744   Durbin-Watson:                   1.691\n",
       "Prob(Omnibus):                  0.689   Jarque-Bera (JB):                0.686\n",
       "Skew:                          -0.101   Prob(JB):                        0.710\n",
       "Kurtosis:                       2.138   Cond. No.                         62.1\n",
       "==============================================================================\n",
       "\n",
       "Notes:\n",
       "[1] Standard Errors assume that the covariance matrix of the errors is correctly specified.\n",
       "\"\"\""
      ]
     },
     "execution_count": 19,
     "metadata": {},
     "output_type": "execute_result"
    }
   ],
   "source": [
    "model2 = smf.ols('np.log(SortingTime)~DeliveryTime',data=dataset).fit() #logy' = ax+b\n",
    "model2.summary()"
   ]
  },
  {
   "cell_type": "code",
   "execution_count": 20,
   "metadata": {},
   "outputs": [
    {
     "data": {
      "text/html": [
       "<table class=\"simpletable\">\n",
       "<caption>OLS Regression Results</caption>\n",
       "<tr>\n",
       "  <th>Dep. Variable:</th>       <td>SortingTime</td>   <th>  R-squared:         </th> <td>   0.119</td>\n",
       "</tr>\n",
       "<tr>\n",
       "  <th>Model:</th>                   <td>OLS</td>       <th>  Adj. R-squared:    </th> <td>   0.073</td>\n",
       "</tr>\n",
       "<tr>\n",
       "  <th>Method:</th>             <td>Least Squares</td>  <th>  F-statistic:       </th> <td>   2.572</td>\n",
       "</tr>\n",
       "<tr>\n",
       "  <th>Date:</th>             <td>Thu, 14 Jul 2022</td> <th>  Prob (F-statistic):</th>  <td> 0.125</td> \n",
       "</tr>\n",
       "<tr>\n",
       "  <th>Time:</th>                 <td>23:32:58</td>     <th>  Log-Likelihood:    </th> <td> -47.544</td>\n",
       "</tr>\n",
       "<tr>\n",
       "  <th>No. Observations:</th>      <td>    21</td>      <th>  AIC:               </th> <td>   99.09</td>\n",
       "</tr>\n",
       "<tr>\n",
       "  <th>Df Residuals:</th>          <td>    19</td>      <th>  BIC:               </th> <td>   101.2</td>\n",
       "</tr>\n",
       "<tr>\n",
       "  <th>Df Model:</th>              <td>     1</td>      <th>                     </th>     <td> </td>   \n",
       "</tr>\n",
       "<tr>\n",
       "  <th>Covariance Type:</th>      <td>nonrobust</td>    <th>                     </th>     <td> </td>   \n",
       "</tr>\n",
       "</table>\n",
       "<table class=\"simpletable\">\n",
       "<tr>\n",
       "            <td></td>              <th>coef</th>     <th>std err</th>      <th>t</th>      <th>P>|t|</th>  <th>[0.025</th>    <th>0.975]</th>  \n",
       "</tr>\n",
       "<tr>\n",
       "  <th>Intercept</th>            <td>    5.9973</td> <td>    0.548</td> <td>   10.953</td> <td> 0.000</td> <td>    4.851</td> <td>    7.143</td>\n",
       "</tr>\n",
       "<tr>\n",
       "  <th>np.exp(DeliveryTime)</th> <td> 1.024e-12</td> <td> 6.38e-13</td> <td>    1.604</td> <td> 0.125</td> <td>-3.12e-13</td> <td> 2.36e-12</td>\n",
       "</tr>\n",
       "</table>\n",
       "<table class=\"simpletable\">\n",
       "<tr>\n",
       "  <th>Omnibus:</th>       <td> 1.359</td> <th>  Durbin-Watson:     </th> <td>   1.993</td>\n",
       "</tr>\n",
       "<tr>\n",
       "  <th>Prob(Omnibus):</th> <td> 0.507</td> <th>  Jarque-Bera (JB):  </th> <td>   0.890</td>\n",
       "</tr>\n",
       "<tr>\n",
       "  <th>Skew:</th>          <td> 0.091</td> <th>  Prob(JB):          </th> <td>   0.641</td>\n",
       "</tr>\n",
       "<tr>\n",
       "  <th>Kurtosis:</th>      <td> 2.008</td> <th>  Cond. No.          </th> <td>8.79e+11</td>\n",
       "</tr>\n",
       "</table><br/><br/>Notes:<br/>[1] Standard Errors assume that the covariance matrix of the errors is correctly specified.<br/>[2] The condition number is large, 8.79e+11. This might indicate that there are<br/>strong multicollinearity or other numerical problems."
      ],
      "text/plain": [
       "<class 'statsmodels.iolib.summary.Summary'>\n",
       "\"\"\"\n",
       "                            OLS Regression Results                            \n",
       "==============================================================================\n",
       "Dep. Variable:            SortingTime   R-squared:                       0.119\n",
       "Model:                            OLS   Adj. R-squared:                  0.073\n",
       "Method:                 Least Squares   F-statistic:                     2.572\n",
       "Date:                Thu, 14 Jul 2022   Prob (F-statistic):              0.125\n",
       "Time:                        23:32:58   Log-Likelihood:                -47.544\n",
       "No. Observations:                  21   AIC:                             99.09\n",
       "Df Residuals:                      19   BIC:                             101.2\n",
       "Df Model:                           1                                         \n",
       "Covariance Type:            nonrobust                                         \n",
       "========================================================================================\n",
       "                           coef    std err          t      P>|t|      [0.025      0.975]\n",
       "----------------------------------------------------------------------------------------\n",
       "Intercept                5.9973      0.548     10.953      0.000       4.851       7.143\n",
       "np.exp(DeliveryTime)  1.024e-12   6.38e-13      1.604      0.125   -3.12e-13    2.36e-12\n",
       "==============================================================================\n",
       "Omnibus:                        1.359   Durbin-Watson:                   1.993\n",
       "Prob(Omnibus):                  0.507   Jarque-Bera (JB):                0.890\n",
       "Skew:                           0.091   Prob(JB):                        0.641\n",
       "Kurtosis:                       2.008   Cond. No.                     8.79e+11\n",
       "==============================================================================\n",
       "\n",
       "Notes:\n",
       "[1] Standard Errors assume that the covariance matrix of the errors is correctly specified.\n",
       "[2] The condition number is large, 8.79e+11. This might indicate that there are\n",
       "strong multicollinearity or other numerical problems.\n",
       "\"\"\""
      ]
     },
     "execution_count": 20,
     "metadata": {},
     "output_type": "execute_result"
    }
   ],
   "source": [
    "smf.ols('SortingTime~np.exp(DeliveryTime)',data=dataset).fit().summary() # y' = a(e^x)+b"
   ]
  },
  {
   "cell_type": "code",
   "execution_count": 35,
   "metadata": {},
   "outputs": [
    {
     "data": {
      "text/html": [
       "<table class=\"simpletable\">\n",
       "<caption>OLS Regression Results</caption>\n",
       "<tr>\n",
       "  <th>Dep. Variable:</th>    <td>np.log(SortingTime)</td> <th>  R-squared:         </th> <td>   0.883</td>\n",
       "</tr>\n",
       "<tr>\n",
       "  <th>Model:</th>                    <td>OLS</td>         <th>  Adj. R-squared:    </th> <td>   0.870</td>\n",
       "</tr>\n",
       "<tr>\n",
       "  <th>Method:</th>              <td>Least Squares</td>    <th>  F-statistic:       </th> <td>   68.17</td>\n",
       "</tr>\n",
       "<tr>\n",
       "  <th>Date:</th>              <td>Wed, 06 Jul 2022</td>   <th>  Prob (F-statistic):</th> <td>3.99e-09</td>\n",
       "</tr>\n",
       "<tr>\n",
       "  <th>Time:</th>                  <td>19:12:04</td>       <th>  Log-Likelihood:    </th> <td>  9.2232</td>\n",
       "</tr>\n",
       "<tr>\n",
       "  <th>No. Observations:</th>       <td>    21</td>        <th>  AIC:               </th> <td>  -12.45</td>\n",
       "</tr>\n",
       "<tr>\n",
       "  <th>Df Residuals:</th>           <td>    18</td>        <th>  BIC:               </th> <td>  -9.313</td>\n",
       "</tr>\n",
       "<tr>\n",
       "  <th>Df Model:</th>               <td>     2</td>        <th>                     </th>     <td> </td>   \n",
       "</tr>\n",
       "<tr>\n",
       "  <th>Covariance Type:</th>       <td>nonrobust</td>      <th>                     </th>     <td> </td>   \n",
       "</tr>\n",
       "</table>\n",
       "<table class=\"simpletable\">\n",
       "<tr>\n",
       "        <td></td>          <th>coef</th>     <th>std err</th>      <th>t</th>      <th>P>|t|</th>  <th>[0.025</th>    <th>0.975]</th>  \n",
       "</tr>\n",
       "<tr>\n",
       "  <th>Intercept</th>    <td>    0.8537</td> <td>    0.151</td> <td>    5.646</td> <td> 0.000</td> <td>    0.536</td> <td>    1.171</td>\n",
       "</tr>\n",
       "<tr>\n",
       "  <th>DeliveryTime</th> <td>    0.0247</td> <td>    0.012</td> <td>    2.024</td> <td> 0.058</td> <td>   -0.001</td> <td>    0.050</td>\n",
       "</tr>\n",
       "<tr>\n",
       "  <th>delivery_Sq</th>  <td>    0.0103</td> <td>    0.002</td> <td>    5.386</td> <td> 0.000</td> <td>    0.006</td> <td>    0.014</td>\n",
       "</tr>\n",
       "</table>\n",
       "<table class=\"simpletable\">\n",
       "<tr>\n",
       "  <th>Omnibus:</th>       <td> 4.025</td> <th>  Durbin-Watson:     </th> <td>   2.317</td>\n",
       "</tr>\n",
       "<tr>\n",
       "  <th>Prob(Omnibus):</th> <td> 0.134</td> <th>  Jarque-Bera (JB):  </th> <td>   2.504</td>\n",
       "</tr>\n",
       "<tr>\n",
       "  <th>Skew:</th>          <td>-0.835</td> <th>  Prob(JB):          </th> <td>   0.286</td>\n",
       "</tr>\n",
       "<tr>\n",
       "  <th>Kurtosis:</th>      <td> 3.271</td> <th>  Cond. No.          </th> <td>    234.</td>\n",
       "</tr>\n",
       "</table><br/><br/>Notes:<br/>[1] Standard Errors assume that the covariance matrix of the errors is correctly specified."
      ],
      "text/plain": [
       "<class 'statsmodels.iolib.summary.Summary'>\n",
       "\"\"\"\n",
       "                             OLS Regression Results                            \n",
       "===============================================================================\n",
       "Dep. Variable:     np.log(SortingTime)   R-squared:                       0.883\n",
       "Model:                             OLS   Adj. R-squared:                  0.870\n",
       "Method:                  Least Squares   F-statistic:                     68.17\n",
       "Date:                 Wed, 06 Jul 2022   Prob (F-statistic):           3.99e-09\n",
       "Time:                         19:12:04   Log-Likelihood:                 9.2232\n",
       "No. Observations:                   21   AIC:                            -12.45\n",
       "Df Residuals:                       18   BIC:                            -9.313\n",
       "Df Model:                            2                                         \n",
       "Covariance Type:             nonrobust                                         \n",
       "================================================================================\n",
       "                   coef    std err          t      P>|t|      [0.025      0.975]\n",
       "--------------------------------------------------------------------------------\n",
       "Intercept        0.8537      0.151      5.646      0.000       0.536       1.171\n",
       "DeliveryTime     0.0247      0.012      2.024      0.058      -0.001       0.050\n",
       "delivery_Sq      0.0103      0.002      5.386      0.000       0.006       0.014\n",
       "==============================================================================\n",
       "Omnibus:                        4.025   Durbin-Watson:                   2.317\n",
       "Prob(Omnibus):                  0.134   Jarque-Bera (JB):                2.504\n",
       "Skew:                          -0.835   Prob(JB):                        0.286\n",
       "Kurtosis:                       3.271   Cond. No.                         234.\n",
       "==============================================================================\n",
       "\n",
       "Notes:\n",
       "[1] Standard Errors assume that the covariance matrix of the errors is correctly specified.\n",
       "\"\"\""
      ]
     },
     "execution_count": 35,
     "metadata": {},
     "output_type": "execute_result"
    }
   ],
   "source": [
    "dataset[\"delivery_Sq\"] = dataset.SortingTime**2 \n",
    "model_quad = smf.ols(\"np.log(SortingTime)~DeliveryTime+delivery_Sq\",data=dataset).fit() #logy'=ax+ax^2+b\n",
    "# model_quad.params\n",
    "model_quad.summary()"
   ]
  },
  {
   "cell_type": "code",
   "execution_count": 36,
   "metadata": {},
   "outputs": [
    {
     "data": {
      "text/html": [
       "<div>\n",
       "<style scoped>\n",
       "    .dataframe tbody tr th:only-of-type {\n",
       "        vertical-align: middle;\n",
       "    }\n",
       "\n",
       "    .dataframe tbody tr th {\n",
       "        vertical-align: top;\n",
       "    }\n",
       "\n",
       "    .dataframe thead th {\n",
       "        text-align: right;\n",
       "    }\n",
       "</style>\n",
       "<table border=\"1\" class=\"dataframe\">\n",
       "  <thead>\n",
       "    <tr style=\"text-align: right;\">\n",
       "      <th></th>\n",
       "      <th>DeliveryTime</th>\n",
       "      <th>SortingTime</th>\n",
       "      <th>delivery_Sq</th>\n",
       "    </tr>\n",
       "  </thead>\n",
       "  <tbody>\n",
       "    <tr>\n",
       "      <th>0</th>\n",
       "      <td>21.00</td>\n",
       "      <td>10</td>\n",
       "      <td>100</td>\n",
       "    </tr>\n",
       "    <tr>\n",
       "      <th>1</th>\n",
       "      <td>13.50</td>\n",
       "      <td>4</td>\n",
       "      <td>16</td>\n",
       "    </tr>\n",
       "    <tr>\n",
       "      <th>2</th>\n",
       "      <td>19.75</td>\n",
       "      <td>6</td>\n",
       "      <td>36</td>\n",
       "    </tr>\n",
       "    <tr>\n",
       "      <th>3</th>\n",
       "      <td>24.00</td>\n",
       "      <td>9</td>\n",
       "      <td>81</td>\n",
       "    </tr>\n",
       "    <tr>\n",
       "      <th>4</th>\n",
       "      <td>29.00</td>\n",
       "      <td>10</td>\n",
       "      <td>100</td>\n",
       "    </tr>\n",
       "    <tr>\n",
       "      <th>5</th>\n",
       "      <td>15.35</td>\n",
       "      <td>6</td>\n",
       "      <td>36</td>\n",
       "    </tr>\n",
       "    <tr>\n",
       "      <th>6</th>\n",
       "      <td>19.00</td>\n",
       "      <td>7</td>\n",
       "      <td>49</td>\n",
       "    </tr>\n",
       "    <tr>\n",
       "      <th>7</th>\n",
       "      <td>9.50</td>\n",
       "      <td>3</td>\n",
       "      <td>9</td>\n",
       "    </tr>\n",
       "    <tr>\n",
       "      <th>8</th>\n",
       "      <td>17.90</td>\n",
       "      <td>10</td>\n",
       "      <td>100</td>\n",
       "    </tr>\n",
       "    <tr>\n",
       "      <th>9</th>\n",
       "      <td>18.75</td>\n",
       "      <td>9</td>\n",
       "      <td>81</td>\n",
       "    </tr>\n",
       "    <tr>\n",
       "      <th>10</th>\n",
       "      <td>19.83</td>\n",
       "      <td>8</td>\n",
       "      <td>64</td>\n",
       "    </tr>\n",
       "    <tr>\n",
       "      <th>11</th>\n",
       "      <td>10.75</td>\n",
       "      <td>4</td>\n",
       "      <td>16</td>\n",
       "    </tr>\n",
       "    <tr>\n",
       "      <th>12</th>\n",
       "      <td>16.68</td>\n",
       "      <td>7</td>\n",
       "      <td>49</td>\n",
       "    </tr>\n",
       "    <tr>\n",
       "      <th>13</th>\n",
       "      <td>11.50</td>\n",
       "      <td>3</td>\n",
       "      <td>9</td>\n",
       "    </tr>\n",
       "    <tr>\n",
       "      <th>14</th>\n",
       "      <td>12.03</td>\n",
       "      <td>3</td>\n",
       "      <td>9</td>\n",
       "    </tr>\n",
       "    <tr>\n",
       "      <th>15</th>\n",
       "      <td>14.88</td>\n",
       "      <td>4</td>\n",
       "      <td>16</td>\n",
       "    </tr>\n",
       "    <tr>\n",
       "      <th>16</th>\n",
       "      <td>13.75</td>\n",
       "      <td>6</td>\n",
       "      <td>36</td>\n",
       "    </tr>\n",
       "    <tr>\n",
       "      <th>17</th>\n",
       "      <td>18.11</td>\n",
       "      <td>7</td>\n",
       "      <td>49</td>\n",
       "    </tr>\n",
       "    <tr>\n",
       "      <th>18</th>\n",
       "      <td>8.00</td>\n",
       "      <td>2</td>\n",
       "      <td>4</td>\n",
       "    </tr>\n",
       "    <tr>\n",
       "      <th>19</th>\n",
       "      <td>17.83</td>\n",
       "      <td>7</td>\n",
       "      <td>49</td>\n",
       "    </tr>\n",
       "    <tr>\n",
       "      <th>20</th>\n",
       "      <td>21.50</td>\n",
       "      <td>5</td>\n",
       "      <td>25</td>\n",
       "    </tr>\n",
       "  </tbody>\n",
       "</table>\n",
       "</div>"
      ],
      "text/plain": [
       "    DeliveryTime  SortingTime  delivery_Sq\n",
       "0          21.00           10          100\n",
       "1          13.50            4           16\n",
       "2          19.75            6           36\n",
       "3          24.00            9           81\n",
       "4          29.00           10          100\n",
       "5          15.35            6           36\n",
       "6          19.00            7           49\n",
       "7           9.50            3            9\n",
       "8          17.90           10          100\n",
       "9          18.75            9           81\n",
       "10         19.83            8           64\n",
       "11         10.75            4           16\n",
       "12         16.68            7           49\n",
       "13         11.50            3            9\n",
       "14         12.03            3            9\n",
       "15         14.88            4           16\n",
       "16         13.75            6           36\n",
       "17         18.11            7           49\n",
       "18          8.00            2            4\n",
       "19         17.83            7           49\n",
       "20         21.50            5           25"
      ]
     },
     "execution_count": 36,
     "metadata": {},
     "output_type": "execute_result"
    }
   ],
   "source": [
    "dataset"
   ]
  },
  {
   "cell_type": "code",
   "execution_count": 37,
   "metadata": {},
   "outputs": [
    {
     "data": {
      "text/plain": [
       "0     11.096382\n",
       "1      3.867852\n",
       "2      5.550675\n",
       "3      9.818363\n",
       "4     13.521128\n",
       "5      4.978958\n",
       "6      6.232786\n",
       "7      3.259245\n",
       "8     10.278309\n",
       "9      8.624067\n",
       "10     7.429375\n",
       "11     3.613809\n",
       "12     5.885604\n",
       "13     3.424324\n",
       "14     3.469455\n",
       "15     4.001988\n",
       "16     4.785994\n",
       "17     6.097242\n",
       "18     2.982418\n",
       "19     6.055212\n",
       "20     5.172737\n",
       "dtype: float64"
      ]
     },
     "execution_count": 37,
     "metadata": {},
     "output_type": "execute_result"
    }
   ],
   "source": [
    "np.exp(model_quad.predict(dataset[[\"DeliveryTime\",\"delivery_Sq\"]]))"
   ]
  }
 ],
 "metadata": {
  "kernelspec": {
   "display_name": "Python 3",
   "language": "python",
   "name": "python3"
  },
  "language_info": {
   "codemirror_mode": {
    "name": "ipython",
    "version": 3
   },
   "file_extension": ".py",
   "mimetype": "text/x-python",
   "name": "python",
   "nbconvert_exporter": "python",
   "pygments_lexer": "ipython3",
   "version": "3.8.3"
  }
 },
 "nbformat": 4,
 "nbformat_minor": 5
}
